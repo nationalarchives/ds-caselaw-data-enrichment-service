{
 "cells": [
  {
   "cell_type": "markdown",
   "metadata": {},
   "source": [
    "### Benchmark case law extraction against vCite"
   ]
  },
  {
   "cell_type": "code",
   "execution_count": 1,
   "metadata": {},
   "outputs": [],
   "source": [
    "import json\n",
    "import pandas as pd"
   ]
  },
  {
   "cell_type": "code",
   "execution_count": 3,
   "metadata": {},
   "outputs": [
    {
     "data": {
      "text/html": [
       "<div>\n",
       "<style scoped>\n",
       "    .dataframe tbody tr th:only-of-type {\n",
       "        vertical-align: middle;\n",
       "    }\n",
       "\n",
       "    .dataframe tbody tr th {\n",
       "        vertical-align: top;\n",
       "    }\n",
       "\n",
       "    .dataframe thead th {\n",
       "        text-align: right;\n",
       "    }\n",
       "</style>\n",
       "<table border=\"1\" class=\"dataframe\">\n",
       "  <thead>\n",
       "    <tr style=\"text-align: right;\">\n",
       "      <th></th>\n",
       "      <th>filename</th>\n",
       "      <th>rule_id</th>\n",
       "      <th>citation</th>\n",
       "    </tr>\n",
       "  </thead>\n",
       "  <tbody>\n",
       "    <tr>\n",
       "      <th>0</th>\n",
       "      <td>2012-ewhc-90219-costs.xml</td>\n",
       "      <td>ewhc_ch</td>\n",
       "      <td>[2007] EWHC 2733 (Ch)</td>\n",
       "    </tr>\n",
       "    <tr>\n",
       "      <th>1</th>\n",
       "      <td>2012-ewhc-90219-costs.xml</td>\n",
       "      <td>ewhc_qb</td>\n",
       "      <td>[2008] EWHC 497 (QB)</td>\n",
       "    </tr>\n",
       "    <tr>\n",
       "      <th>2</th>\n",
       "      <td>2012-ewhc-90219-costs.xml</td>\n",
       "      <td>ewca_civ</td>\n",
       "      <td>[2003] EWCA Civ 1766</td>\n",
       "    </tr>\n",
       "    <tr>\n",
       "      <th>3</th>\n",
       "      <td>2012-ewhc-90219-costs.xml</td>\n",
       "      <td>ewca_civ</td>\n",
       "      <td>[2005] EWCA Civ 1206</td>\n",
       "    </tr>\n",
       "    <tr>\n",
       "      <th>4</th>\n",
       "      <td>2012-ewhc-90219-costs.xml</td>\n",
       "      <td>ewhc_qb</td>\n",
       "      <td>[2003] EWHC 3127 (QB)</td>\n",
       "    </tr>\n",
       "  </tbody>\n",
       "</table>\n",
       "</div>"
      ],
      "text/plain": [
       "                    filename   rule_id               citation\n",
       "0  2012-ewhc-90219-costs.xml   ewhc_ch  [2007] EWHC 2733 (Ch)\n",
       "1  2012-ewhc-90219-costs.xml   ewhc_qb   [2008] EWHC 497 (QB)\n",
       "2  2012-ewhc-90219-costs.xml  ewca_civ   [2003] EWCA Civ 1766\n",
       "3  2012-ewhc-90219-costs.xml  ewca_civ   [2005] EWCA Civ 1206\n",
       "4  2012-ewhc-90219-costs.xml   ewhc_qb  [2003] EWHC 3127 (QB)"
      ]
     },
     "execution_count": 3,
     "metadata": {},
     "output_type": "execute_result"
    }
   ],
   "source": [
    "df = pd.read_json ('benchmark.json')\n",
    "df.head()"
   ]
  },
  {
   "cell_type": "code",
   "execution_count": 5,
   "metadata": {},
   "outputs": [
    {
     "data": {
      "text/html": [
       "<div>\n",
       "<style scoped>\n",
       "    .dataframe tbody tr th:only-of-type {\n",
       "        vertical-align: middle;\n",
       "    }\n",
       "\n",
       "    .dataframe tbody tr th {\n",
       "        vertical-align: top;\n",
       "    }\n",
       "\n",
       "    .dataframe thead th {\n",
       "        text-align: right;\n",
       "    }\n",
       "</style>\n",
       "<table border=\"1\" class=\"dataframe\">\n",
       "  <thead>\n",
       "    <tr style=\"text-align: right;\">\n",
       "      <th></th>\n",
       "      <th>Filename</th>\n",
       "      <th>Content</th>\n",
       "      <th>Error</th>\n",
       "      <th>ExtractedSeries</th>\n",
       "    </tr>\n",
       "  </thead>\n",
       "  <tbody>\n",
       "    <tr>\n",
       "      <th>0</th>\n",
       "      <td>2012-ewhc-90219-costs.xml</td>\n",
       "      <td>[2007] EWHC 2733 (Ch)</td>\n",
       "      <td>NaN</td>\n",
       "      <td>EWHC  Ch</td>\n",
       "    </tr>\n",
       "    <tr>\n",
       "      <th>1</th>\n",
       "      <td>2012-ewhc-90219-costs.xml</td>\n",
       "      <td>[2008] EWHC 497 (QB)</td>\n",
       "      <td>NaN</td>\n",
       "      <td>EWHC  QB</td>\n",
       "    </tr>\n",
       "    <tr>\n",
       "      <th>2</th>\n",
       "      <td>2012-ewhc-90219-costs.xml</td>\n",
       "      <td>[2003] EWHC 3127 (QB)</td>\n",
       "      <td>NaN</td>\n",
       "      <td>EWHC  QB</td>\n",
       "    </tr>\n",
       "    <tr>\n",
       "      <th>3</th>\n",
       "      <td>2012-ewhc-90219-costs.xml</td>\n",
       "      <td>[2011] EWHC 177 (QB)</td>\n",
       "      <td>NaN</td>\n",
       "      <td>EWHC  QB</td>\n",
       "    </tr>\n",
       "    <tr>\n",
       "      <th>4</th>\n",
       "      <td>2012-ewhc-90223-costs.xml</td>\n",
       "      <td>(2007) EWHC 665 (Ch)</td>\n",
       "      <td>NaN</td>\n",
       "      <td>EWHC  Ch</td>\n",
       "    </tr>\n",
       "  </tbody>\n",
       "</table>\n",
       "</div>"
      ],
      "text/plain": [
       "                    Filename                Content  Error ExtractedSeries\n",
       "0  2012-ewhc-90219-costs.xml  [2007] EWHC 2733 (Ch)    NaN        EWHC  Ch\n",
       "1  2012-ewhc-90219-costs.xml   [2008] EWHC 497 (QB)    NaN        EWHC  QB\n",
       "2  2012-ewhc-90219-costs.xml  [2003] EWHC 3127 (QB)    NaN        EWHC  QB\n",
       "3  2012-ewhc-90219-costs.xml   [2011] EWHC 177 (QB)    NaN        EWHC  QB\n",
       "4  2012-ewhc-90223-costs.xml   (2007) EWHC 665 (Ch)    NaN        EWHC  Ch"
      ]
     },
     "execution_count": 5,
     "metadata": {},
     "output_type": "execute_result"
    }
   ],
   "source": [
    "df_vlex = pd.read_csv('tna-sample/vcite-sample-caselaw-analysis.csv')\n",
    "# exclude judgment that wasn't processed\n",
    "df_vlex = df_vlex[df_vlex.Filename!='2021-ewhc-65-fam.xml']\n",
    "# prep Filename column for merging\n",
    "df_vlex.Filename = df_vlex.Filename.str.split('/').apply(lambda x: x[-1])\n",
    "# exclude columns not of interest\n",
    "df_vlex = df_vlex[['Filename', 'Content', 'Error', 'ExtractedSeries']]\n",
    "# exclude non-UK case law\n",
    "df_vlex = df_vlex[~df_vlex.Content.isin(['HCA', 'NZLR', 'N.Z.L.R', 'N.Y.', 'U.S.', 'US', 'A.D.', 'F. Supp.', 'NSWCA', 'NSWLR', 'NSWSC', 'CLC', 'CLR', 'SASR',\n",
    "'1F487', 'say', 'Jenkins', 'Cal.'])]\n",
    "\n",
    "df_vlex.head()"
   ]
  },
  {
   "cell_type": "code",
   "execution_count": 11,
   "metadata": {},
   "outputs": [
    {
     "name": "stdout",
     "output_type": "stream",
     "text": [
      "We processed 388 files.\n",
      "vLex processed 390 files.\n"
     ]
    }
   ],
   "source": [
    "# how many files did we process vs vLex\n",
    "\n",
    "our_files = df.filename.unique().tolist()\n",
    "vlex_files = df_vlex.Filename.unique().tolist()\n",
    "\n",
    "print(\"We processed {0} files.\".format(len(our_files)))\n",
    "print(\"vLex processed {0} files.\".format(len(vlex_files)))"
   ]
  },
  {
   "cell_type": "code",
   "execution_count": 14,
   "metadata": {},
   "outputs": [
    {
     "name": "stdout",
     "output_type": "stream",
     "text": [
      "Files we are missing that vLex processed:\n",
      "['2006-ewhc-1187-tcc.xml', '2019-ewca-1402-civ.xml', '2021-ewhc-794-tcc.xml', '2009-ewhc-1274-admlty.xml', '2021-ewhc-65-fam.xml']\n",
      "---\n",
      "Files vLex are missing that we processed:\n",
      "['2021-ewhc-5-costs.xml', '2014-ewhc-1195-mercantile.xml', '2021-ukpc-24.xml']\n"
     ]
    }
   ],
   "source": [
    "print(\"Files we are missing that vLex processed:\")\n",
    "print(list(set(vlex_files)-set(our_files)))\n",
    "print(\"---\")\n",
    "print(\"Files vLex are missing that we processed:\")\n",
    "print(list(set(our_files)-set(vlex_files)))"
   ]
  },
  {
   "cell_type": "markdown",
   "metadata": {},
   "source": [
    "#### Benchmarking Stats"
   ]
  },
  {
   "cell_type": "code",
   "execution_count": 15,
   "metadata": {},
   "outputs": [],
   "source": [
    "# build comparison dictionary that collects stats on number of citations extracted by both, only by vLex, only by MxT and number of extractions missed by vLex/MxT\n",
    "comparison_dict = {'filename': [], 'num_both_extracted': [], 'num_mdr_extracted': [], 'num_vlex_extracted': [], 'num_mdr_not_extracted': [], 'num_vlex_not_extracted': []}\n",
    "\n",
    "for i in vlex_files:\n",
    "  our_df = df[df.filename==i]\n",
    "  vlex_df = df_vlex[df_vlex.Filename==i]\n",
    "\n",
    "  comparison_df = our_df.merge(vlex_df, indicator=True, how='outer', left_on=['filename', 'citation'], right_on=['Filename', 'Content'])\n",
    "  mdr_extracted = len(comparison_df[comparison_df._merge=='both'])+len(comparison_df[comparison_df._merge=='left_only'])\n",
    "  vlex_extracted = len(comparison_df[comparison_df._merge=='both'])+len(comparison_df[comparison_df._merge=='right_only'])\n",
    "  same_extraction = len(comparison_df[comparison_df._merge=='both'])\n",
    "  mdr_not_extracted = len(comparison_df[comparison_df._merge=='right_only'])\n",
    "  vlex_not_extracted = len(comparison_df[comparison_df._merge=='left_only'])\n",
    "\n",
    "  comparison_dict['filename'].append(i)\n",
    "  comparison_dict['num_both_extracted'].append(same_extraction)\n",
    "  comparison_dict['num_mdr_extracted'].append(mdr_extracted)\n",
    "  comparison_dict['num_vlex_extracted'].append(vlex_extracted)\n",
    "  comparison_dict['num_mdr_not_extracted'].append(mdr_not_extracted)\n",
    "  comparison_dict['num_vlex_not_extracted'].append(vlex_not_extracted)"
   ]
  },
  {
   "cell_type": "code",
   "execution_count": 16,
   "metadata": {},
   "outputs": [
    {
     "data": {
      "text/html": [
       "<div>\n",
       "<style scoped>\n",
       "    .dataframe tbody tr th:only-of-type {\n",
       "        vertical-align: middle;\n",
       "    }\n",
       "\n",
       "    .dataframe tbody tr th {\n",
       "        vertical-align: top;\n",
       "    }\n",
       "\n",
       "    .dataframe thead th {\n",
       "        text-align: right;\n",
       "    }\n",
       "</style>\n",
       "<table border=\"1\" class=\"dataframe\">\n",
       "  <thead>\n",
       "    <tr style=\"text-align: right;\">\n",
       "      <th></th>\n",
       "      <th>filename</th>\n",
       "      <th>num_both_extracted</th>\n",
       "      <th>num_mdr_extracted</th>\n",
       "      <th>num_vlex_extracted</th>\n",
       "      <th>num_mdr_not_extracted</th>\n",
       "      <th>num_vlex_not_extracted</th>\n",
       "      <th>benchmark_percent</th>\n",
       "    </tr>\n",
       "  </thead>\n",
       "  <tbody>\n",
       "    <tr>\n",
       "      <th>0</th>\n",
       "      <td>2012-ewhc-90219-costs.xml</td>\n",
       "      <td>6</td>\n",
       "      <td>7</td>\n",
       "      <td>6</td>\n",
       "      <td>0</td>\n",
       "      <td>1</td>\n",
       "      <td>1.166667</td>\n",
       "    </tr>\n",
       "    <tr>\n",
       "      <th>1</th>\n",
       "      <td>2012-ewhc-90223-costs.xml</td>\n",
       "      <td>6</td>\n",
       "      <td>6</td>\n",
       "      <td>11</td>\n",
       "      <td>5</td>\n",
       "      <td>0</td>\n",
       "      <td>0.545455</td>\n",
       "    </tr>\n",
       "    <tr>\n",
       "      <th>2</th>\n",
       "      <td>2008-ewhc-90111-costs.xml</td>\n",
       "      <td>12</td>\n",
       "      <td>14</td>\n",
       "      <td>12</td>\n",
       "      <td>0</td>\n",
       "      <td>2</td>\n",
       "      <td>1.166667</td>\n",
       "    </tr>\n",
       "    <tr>\n",
       "      <th>3</th>\n",
       "      <td>2008-ewhc-90105-costs.xml</td>\n",
       "      <td>16</td>\n",
       "      <td>19</td>\n",
       "      <td>18</td>\n",
       "      <td>2</td>\n",
       "      <td>3</td>\n",
       "      <td>1.055556</td>\n",
       "    </tr>\n",
       "    <tr>\n",
       "      <th>4</th>\n",
       "      <td>2008-ewhc-90110-costs.xml</td>\n",
       "      <td>29</td>\n",
       "      <td>30</td>\n",
       "      <td>37</td>\n",
       "      <td>8</td>\n",
       "      <td>1</td>\n",
       "      <td>0.810811</td>\n",
       "    </tr>\n",
       "    <tr>\n",
       "      <th>5</th>\n",
       "      <td>2008-ewhc-90107-costs.xml</td>\n",
       "      <td>7</td>\n",
       "      <td>7</td>\n",
       "      <td>13</td>\n",
       "      <td>6</td>\n",
       "      <td>0</td>\n",
       "      <td>0.538462</td>\n",
       "    </tr>\n",
       "    <tr>\n",
       "      <th>6</th>\n",
       "      <td>2009-ewhc-90154-costs.xml</td>\n",
       "      <td>9</td>\n",
       "      <td>12</td>\n",
       "      <td>9</td>\n",
       "      <td>0</td>\n",
       "      <td>3</td>\n",
       "      <td>1.333333</td>\n",
       "    </tr>\n",
       "    <tr>\n",
       "      <th>7</th>\n",
       "      <td>2009-ewhc-90144-costs.xml</td>\n",
       "      <td>5</td>\n",
       "      <td>6</td>\n",
       "      <td>6</td>\n",
       "      <td>1</td>\n",
       "      <td>1</td>\n",
       "      <td>1.000000</td>\n",
       "    </tr>\n",
       "    <tr>\n",
       "      <th>8</th>\n",
       "      <td>2009-ewhc-90133-costs.xml</td>\n",
       "      <td>5</td>\n",
       "      <td>5</td>\n",
       "      <td>5</td>\n",
       "      <td>0</td>\n",
       "      <td>0</td>\n",
       "      <td>1.000000</td>\n",
       "    </tr>\n",
       "    <tr>\n",
       "      <th>9</th>\n",
       "      <td>2011-ewhc-90208-costs.xml</td>\n",
       "      <td>13</td>\n",
       "      <td>13</td>\n",
       "      <td>13</td>\n",
       "      <td>0</td>\n",
       "      <td>0</td>\n",
       "      <td>1.000000</td>\n",
       "    </tr>\n",
       "  </tbody>\n",
       "</table>\n",
       "</div>"
      ],
      "text/plain": [
       "                    filename  num_both_extracted  num_mdr_extracted  \\\n",
       "0  2012-ewhc-90219-costs.xml                   6                  7   \n",
       "1  2012-ewhc-90223-costs.xml                   6                  6   \n",
       "2  2008-ewhc-90111-costs.xml                  12                 14   \n",
       "3  2008-ewhc-90105-costs.xml                  16                 19   \n",
       "4  2008-ewhc-90110-costs.xml                  29                 30   \n",
       "5  2008-ewhc-90107-costs.xml                   7                  7   \n",
       "6  2009-ewhc-90154-costs.xml                   9                 12   \n",
       "7  2009-ewhc-90144-costs.xml                   5                  6   \n",
       "8  2009-ewhc-90133-costs.xml                   5                  5   \n",
       "9  2011-ewhc-90208-costs.xml                  13                 13   \n",
       "\n",
       "   num_vlex_extracted  num_mdr_not_extracted  num_vlex_not_extracted  \\\n",
       "0                   6                      0                       1   \n",
       "1                  11                      5                       0   \n",
       "2                  12                      0                       2   \n",
       "3                  18                      2                       3   \n",
       "4                  37                      8                       1   \n",
       "5                  13                      6                       0   \n",
       "6                   9                      0                       3   \n",
       "7                   6                      1                       1   \n",
       "8                   5                      0                       0   \n",
       "9                  13                      0                       0   \n",
       "\n",
       "   benchmark_percent  \n",
       "0           1.166667  \n",
       "1           0.545455  \n",
       "2           1.166667  \n",
       "3           1.055556  \n",
       "4           0.810811  \n",
       "5           0.538462  \n",
       "6           1.333333  \n",
       "7           1.000000  \n",
       "8           1.000000  \n",
       "9           1.000000  "
      ]
     },
     "execution_count": 16,
     "metadata": {},
     "output_type": "execute_result"
    }
   ],
   "source": [
    "# comparison dataframe\n",
    "benchmark_outcome = pd.DataFrame.from_dict(comparison_dict)\n",
    "benchmark_outcome['benchmark_percent'] = (benchmark_outcome.num_mdr_extracted)/(benchmark_outcome.num_vlex_extracted)\n",
    "benchmark_outcome.head(10)"
   ]
  },
  {
   "cell_type": "code",
   "execution_count": 22,
   "metadata": {},
   "outputs": [
    {
     "name": "stdout",
     "output_type": "stream",
     "text": [
      "MxT extracted 18352 case law citations.\n",
      "vLex extracted 18593 case law citations.\n",
      "---\n",
      "MxT extracted on average 98.0 % of citations vCite found.\n",
      "---\n",
      "vLex extracted more case law citations in 173 documents.\n",
      "MxT extracted more case law citations in 160 documents.\n"
     ]
    }
   ],
   "source": [
    "# How many citations did MxT vs vLex extract?\n",
    "print(\"MxT extracted {0} case law citations.\".format(benchmark_outcome.num_mdr_extracted.sum()))\n",
    "print(\"vLex extracted {0} case law citations.\".format(benchmark_outcome.num_vlex_extracted.sum()))\n",
    "print(\"---\")\n",
    "print(\"MxT extracted on average {0} % of citations vCite found.\".format(round(benchmark_outcome.benchmark_percent.mean(), 2)*100))\n",
    "print(\"---\")\n",
    "print(\"vLex extracted more case law citations in {0} documents.\".format(len(benchmark_outcome[benchmark_outcome.num_mdr_extracted < benchmark_outcome.num_vlex_extracted])))\n",
    "print(\"MxT extracted more case law citations in {0} documents.\".format(len(benchmark_outcome[benchmark_outcome.num_mdr_extracted > benchmark_outcome.num_vlex_extracted])))"
   ]
  },
  {
   "cell_type": "markdown",
   "metadata": {},
   "source": [
    "#### Compare citations extracted judgment by judgment with indicator if vCite and/or MxT extracted"
   ]
  },
  {
   "cell_type": "markdown",
   "metadata": {},
   "source": [
    "!! This is not very elegant !!"
   ]
  },
  {
   "cell_type": "code",
   "execution_count": 76,
   "metadata": {},
   "outputs": [],
   "source": [
    "extracted_series = []\n",
    "citations = []\n",
    "\n",
    "for i in vlex_files:\n",
    "  our_df = df[df.filename==i]\n",
    "  vlex_df = df_vlex[df_vlex.Filename==i]\n",
    "\n",
    "  placeholder = our_df.merge(vlex_df, indicator=True, how='outer', left_on=['filename', 'citation'], right_on=['Filename', 'Content'])\n",
    "  #vLex_only.append(placeholder[placeholder._merge=='right_only'].Content.tolist())\n",
    "  extracted_series.append(placeholder[placeholder._merge=='right_only'].ExtractedSeries.tolist())\n",
    "  citations.append(placeholder[placeholder._merge=='right_only'].Content.tolist())"
   ]
  },
  {
   "cell_type": "code",
   "execution_count": 64,
   "metadata": {},
   "outputs": [],
   "source": [
    "flat_series = []\n",
    "flat_citations = []\n",
    "\n",
    "# iterating over the data\n",
    "for item in extracted_series:\n",
    "    # appending elements to the flat_list\n",
    "    flat_series += item\n",
    "\n",
    "# iterating over the data\n",
    "for item in citations:\n",
    "    # appending elements to the flat_list\n",
    "    flat_citations += item\n",
    "\n",
    "vLex_only = {'ExtractedSeries': flat_series,\n",
    "            'Citation': flat_citations}"
   ]
  },
  {
   "cell_type": "code",
   "execution_count": 68,
   "metadata": {},
   "outputs": [],
   "source": [
    "vLex_only_df = pd.DataFrame.from_dict(vLex_only)\n",
    "#vLex_only_df.head()\n",
    "\n",
    "vLex_only_df.to_csv(\"missed_rules.csv\")"
   ]
  }
 ],
 "metadata": {
  "interpreter": {
   "hash": "9d158b064d5c8439c2f9a99f57e9221e9487a118a489d2826817095f8d646951"
  },
  "kernelspec": {
   "display_name": "Python 3.9.1 ('base')",
   "language": "python",
   "name": "python3"
  },
  "language_info": {
   "codemirror_mode": {
    "name": "ipython",
    "version": 3
   },
   "file_extension": ".py",
   "mimetype": "text/x-python",
   "name": "python",
   "nbconvert_exporter": "python",
   "pygments_lexer": "ipython3",
   "version": "3.9.10"
  },
  "orig_nbformat": 4
 },
 "nbformat": 4,
 "nbformat_minor": 2
}
