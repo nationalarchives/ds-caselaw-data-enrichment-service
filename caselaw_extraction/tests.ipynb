{
 "cells": [
  {
   "cell_type": "code",
   "execution_count": 10,
   "metadata": {},
   "outputs": [
    {
     "ename": "ModuleNotFoundError",
     "evalue": "No module named 'pandas'",
     "output_type": "error",
     "traceback": [
      "\u001b[0;31m---------------------------------------------------------------------------\u001b[0m",
      "\u001b[0;31mModuleNotFoundError\u001b[0m                       Traceback (most recent call last)",
      "\u001b[1;32m/Users/amy.conroy/Documents/Development/project_TNA/caselaw_extraction/tests.ipynb Cell 1'\u001b[0m in \u001b[0;36m<cell line: 1>\u001b[0;34m()\u001b[0m\n\u001b[0;32m----> <a href='vscode-notebook-cell:/Users/amy.conroy/Documents/Development/project_TNA/caselaw_extraction/tests.ipynb#ch0000000?line=0'>1</a>\u001b[0m \u001b[39mimport\u001b[39;00m \u001b[39mpandas\u001b[39;00m \u001b[39mas\u001b[39;00m \u001b[39mpd\u001b[39;00m\n\u001b[1;32m      <a href='vscode-notebook-cell:/Users/amy.conroy/Documents/Development/project_TNA/caselaw_extraction/tests.ipynb#ch0000000?line=1'>2</a>\u001b[0m \u001b[39mimport\u001b[39;00m \u001b[39mmatplotlib\u001b[39;00m\u001b[39m.\u001b[39;00m\u001b[39mpyplot\u001b[39;00m \u001b[39mas\u001b[39;00m \u001b[39mplt\u001b[39;00m\n\u001b[1;32m      <a href='vscode-notebook-cell:/Users/amy.conroy/Documents/Development/project_TNA/caselaw_extraction/tests.ipynb#ch0000000?line=2'>3</a>\u001b[0m \u001b[39mimport\u001b[39;00m \u001b[39msqlite3\u001b[39;00m\n",
      "\u001b[0;31mModuleNotFoundError\u001b[0m: No module named 'pandas'"
     ]
    }
   ],
   "source": [
    "import pandas as pd\n",
    "import matplotlib.pyplot as plt\n",
    "import sqlite3\n",
    "from sqlite3 import Error\n",
    "from collections import Counter\n",
    "import bs4 as BeautifulSoup\n",
    "import os"
   ]
  },
  {
   "cell_type": "markdown",
   "metadata": {},
   "source": [
    "#### Manifest"
   ]
  },
  {
   "cell_type": "code",
   "execution_count": 1,
   "metadata": {},
   "outputs": [
    {
     "ename": "NameError",
     "evalue": "name 'pd' is not defined",
     "output_type": "error",
     "traceback": [
      "\u001b[0;31m---------------------------------------------------------------------------\u001b[0m",
      "\u001b[0;31mNameError\u001b[0m                                 Traceback (most recent call last)",
      "\u001b[1;32m/Users/amy.conroy/Documents/Development/project_TNA/caselaw_extraction/tests.ipynb Cell 3'\u001b[0m in \u001b[0;36m<cell line: 1>\u001b[0;34m()\u001b[0m\n\u001b[0;32m----> <a href='vscode-notebook-cell:/Users/amy.conroy/Documents/Development/project_TNA/caselaw_extraction/tests.ipynb#ch0000002?line=0'>1</a>\u001b[0m manifest \u001b[39m=\u001b[39m pd\u001b[39m.\u001b[39mread_csv(\u001b[39m'\u001b[39m\u001b[39m2022_02_24_Citation_Manifest.csv\u001b[39m\u001b[39m'\u001b[39m)\n\u001b[1;32m      <a href='vscode-notebook-cell:/Users/amy.conroy/Documents/Development/project_TNA/caselaw_extraction/tests.ipynb#ch0000002?line=1'>2</a>\u001b[0m manifest\u001b[39m.\u001b[39mhead()\n",
      "\u001b[0;31mNameError\u001b[0m: name 'pd' is not defined"
     ]
    }
   ],
   "source": [
    "manifest = pd.read_csv('2022_02_24_Citation_Manifest.csv')\n",
    "manifest.head()"
   ]
  },
  {
   "cell_type": "markdown",
   "metadata": {},
   "source": [
    "#### DB Connection"
   ]
  },
  {
   "cell_type": "code",
   "execution_count": 6,
   "metadata": {},
   "outputs": [],
   "source": [
    "def create_connection(db_file):\n",
    "    \"\"\" create a database connection to the SQLite database\n",
    "        specified by db_file\n",
    "    :param db_file: database file\n",
    "    :return: Connection object or None\n",
    "    \"\"\"\n",
    "    conn = None\n",
    "    try:\n",
    "        conn = sqlite3.connect(db_file)\n",
    "    except Error as e:\n",
    "        print(e)\n",
    "\n",
    "    return conn"
   ]
  },
  {
   "cell_type": "code",
   "execution_count": 7,
   "metadata": {},
   "outputs": [],
   "source": [
    "def get_manifest_row(conn, rule_id):\n",
    "  matched_rule = pd.read_sql('''SELECT * FROM manifest WHERE id=\"{0}\"'''.format(rule_id), conn)\n",
    "  return matched_rule"
   ]
  },
  {
   "cell_type": "code",
   "execution_count": 2,
   "metadata": {},
   "outputs": [],
   "source": [
    "def close_connection(conn):\n",
    "  conn.close()"
   ]
  },
  {
   "cell_type": "code",
   "execution_count": 8,
   "metadata": {},
   "outputs": [
    {
     "ename": "NameError",
     "evalue": "name 'Error' is not defined",
     "output_type": "error",
     "traceback": [
      "\u001b[0;31m---------------------------------------------------------------------------\u001b[0m",
      "\u001b[0;31mNameError\u001b[0m                                 Traceback (most recent call last)",
      "\u001b[1;32m/Users/amy.conroy/Documents/Development/project_TNA/caselaw_extraction/tests.ipynb Cell 5'\u001b[0m in \u001b[0;36mcreate_connection\u001b[0;34m(db_file)\u001b[0m\n\u001b[1;32m      <a href='vscode-notebook-cell:/Users/amy.conroy/Documents/Development/project_TNA/caselaw_extraction/tests.ipynb#ch0000004?line=7'>8</a>\u001b[0m \u001b[39mtry\u001b[39;00m:\n\u001b[0;32m----> <a href='vscode-notebook-cell:/Users/amy.conroy/Documents/Development/project_TNA/caselaw_extraction/tests.ipynb#ch0000004?line=8'>9</a>\u001b[0m     conn \u001b[39m=\u001b[39m sqlite3\u001b[39m.\u001b[39mconnect(db_file)\n\u001b[1;32m     <a href='vscode-notebook-cell:/Users/amy.conroy/Documents/Development/project_TNA/caselaw_extraction/tests.ipynb#ch0000004?line=9'>10</a>\u001b[0m \u001b[39mexcept\u001b[39;00m Error \u001b[39mas\u001b[39;00m e:\n",
      "\u001b[0;31mNameError\u001b[0m: name 'sqlite3' is not defined",
      "\nDuring handling of the above exception, another exception occurred:\n",
      "\u001b[0;31mNameError\u001b[0m                                 Traceback (most recent call last)",
      "\u001b[1;32m/Users/amy.conroy/Documents/Development/project_TNA/caselaw_extraction/tests.ipynb Cell 8'\u001b[0m in \u001b[0;36m<cell line: 1>\u001b[0;34m()\u001b[0m\n\u001b[0;32m----> <a href='vscode-notebook-cell:/Users/amy.conroy/Documents/Development/project_TNA/caselaw_extraction/tests.ipynb#ch0000007?line=0'>1</a>\u001b[0m conn \u001b[39m=\u001b[39m create_connection(\u001b[39m'\u001b[39;49m\u001b[39mmanifest.db\u001b[39;49m\u001b[39m'\u001b[39;49m)\n",
      "\u001b[1;32m/Users/amy.conroy/Documents/Development/project_TNA/caselaw_extraction/tests.ipynb Cell 5'\u001b[0m in \u001b[0;36mcreate_connection\u001b[0;34m(db_file)\u001b[0m\n\u001b[1;32m      <a href='vscode-notebook-cell:/Users/amy.conroy/Documents/Development/project_TNA/caselaw_extraction/tests.ipynb#ch0000004?line=7'>8</a>\u001b[0m \u001b[39mtry\u001b[39;00m:\n\u001b[1;32m      <a href='vscode-notebook-cell:/Users/amy.conroy/Documents/Development/project_TNA/caselaw_extraction/tests.ipynb#ch0000004?line=8'>9</a>\u001b[0m     conn \u001b[39m=\u001b[39m sqlite3\u001b[39m.\u001b[39mconnect(db_file)\n\u001b[0;32m---> <a href='vscode-notebook-cell:/Users/amy.conroy/Documents/Development/project_TNA/caselaw_extraction/tests.ipynb#ch0000004?line=9'>10</a>\u001b[0m \u001b[39mexcept\u001b[39;00m Error \u001b[39mas\u001b[39;00m e:\n\u001b[1;32m     <a href='vscode-notebook-cell:/Users/amy.conroy/Documents/Development/project_TNA/caselaw_extraction/tests.ipynb#ch0000004?line=10'>11</a>\u001b[0m     \u001b[39mprint\u001b[39m(e)\n\u001b[1;32m     <a href='vscode-notebook-cell:/Users/amy.conroy/Documents/Development/project_TNA/caselaw_extraction/tests.ipynb#ch0000004?line=12'>13</a>\u001b[0m \u001b[39mreturn\u001b[39;00m conn\n",
      "\u001b[0;31mNameError\u001b[0m: name 'Error' is not defined"
     ]
    }
   ],
   "source": [
    "conn = create_connection('manifest.db')\n",
    "#matched_rule = get_manifest_row(conn, 'wlr_a')\n",
    "#close_connection(conn)"
   ]
  },
  {
   "cell_type": "code",
   "execution_count": 5,
   "metadata": {},
   "outputs": [
    {
     "ename": "NameError",
     "evalue": "name 'conn' is not defined",
     "output_type": "error",
     "traceback": [
      "\u001b[0;31m---------------------------------------------------------------------------\u001b[0m",
      "\u001b[0;31mNameError\u001b[0m                                 Traceback (most recent call last)",
      "\u001b[1;32m/Users/amy.conroy/Documents/Development/project_TNA/caselaw_extraction/tests.ipynb Cell 9'\u001b[0m in \u001b[0;36m<cell line: 1>\u001b[0;34m()\u001b[0m\n\u001b[0;32m----> <a href='vscode-notebook-cell:/Users/amy.conroy/Documents/Development/project_TNA/caselaw_extraction/tests.ipynb#ch0000008?line=0'>1</a>\u001b[0m cur \u001b[39m=\u001b[39m conn\u001b[39m.\u001b[39mcursor()\n",
      "\u001b[0;31mNameError\u001b[0m: name 'conn' is not defined"
     ]
    }
   ],
   "source": [
    "cur = conn.cursor()"
   ]
  },
  {
   "cell_type": "code",
   "execution_count": 9,
   "metadata": {},
   "outputs": [
    {
     "data": {
      "text/plain": [
       "<sqlite3.Cursor at 0x7fb1aeaf3490>"
      ]
     },
     "execution_count": 9,
     "metadata": {},
     "output_type": "execute_result"
    }
   ],
   "source": [
    "cur.execute('''CREATE TABLE manifest(\n",
    "              id varchar(256) PRIMARY KEY,\n",
    "              family TEXT NOT NULL,\n",
    "              description TEXT NOT NULL,\n",
    "              canonicalForm TEXT NOT NULL,\n",
    "              canonicalExample TEXT NOT NULL,\n",
    "              matchExample TEXT NOT NULL,\n",
    "              citationType TEXT NOT NULL,\n",
    "              isCanonical BOOL NOT NULL,\n",
    "              isNeutral BOOL NOT NULL,\n",
    "              jurisdiction varchar(2) NOT NULL,\n",
    "              pattern TEXT NOT NULL);\n",
    "            ''')"
   ]
  },
  {
   "cell_type": "code",
   "execution_count": 10,
   "metadata": {},
   "outputs": [],
   "source": [
    "manifest.to_sql('manifest', conn, if_exists='append', index=False)"
   ]
  },
  {
   "cell_type": "code",
   "execution_count": 11,
   "metadata": {},
   "outputs": [],
   "source": [
    "close_connection(conn)"
   ]
  },
  {
   "cell_type": "markdown",
   "metadata": {},
   "source": [
    "#### Other Tests"
   ]
  },
  {
   "cell_type": "code",
   "execution_count": 2,
   "metadata": {},
   "outputs": [],
   "source": [
    "ROOTDIR = '2020'"
   ]
  },
  {
   "cell_type": "code",
   "execution_count": 14,
   "metadata": {},
   "outputs": [],
   "source": [
    "for subdir, dirs, files in os.walk(ROOTDIR):\n",
    "  for file in files[:10]:\n",
    "    file_path = os.path.join(subdir, file)\n",
    "    with open(file_path, \"r\", encoding=\"utf-8\") as file_in:\n",
    "          #print(file)\n",
    "          file_data = file_in.read()\n",
    "          soup = BeautifulSoup.BeautifulSoup(str(file_data), \"lxml\")\n",
    "          judgment_content = soup.find_all(\"content\")\n",
    "          judgment_content_text = \" \".join([content.text.strip() for content in judgment_content])"
   ]
  },
  {
   "cell_type": "code",
   "execution_count": null,
   "metadata": {},
   "outputs": [],
   "source": [
    "def parse_file(file):\n",
    "  file_data = file.read()\n",
    "  soup = BeautifulSoup.BeautifulSoup(str(file_data), \"lxml\")\n",
    "  judgment_content = soup.find_all(\"content\")\n",
    "  judgment_content_text = \" \".join([content.text.strip() for content in judgment_content])\n",
    "  return judgment_content_text"
   ]
  },
  {
   "cell_type": "code",
   "execution_count": null,
   "metadata": {},
   "outputs": [],
   "source": []
  },
  {
   "cell_type": "code",
   "execution_count": null,
   "metadata": {},
   "outputs": [],
   "source": []
  }
 ],
 "metadata": {
  "interpreter": {
   "hash": "b8bdd4e700647ba2b08c59e5df8b7da1dcf50a218bcd4c1bcd9b3dc92e8788e5"
  },
  "kernelspec": {
   "display_name": "Python 3.9.1 64-bit",
   "language": "python",
   "name": "python3"
  },
  "language_info": {
   "codemirror_mode": {
    "name": "ipython",
    "version": 3
   },
   "file_extension": ".py",
   "mimetype": "text/x-python",
   "name": "python",
   "nbconvert_exporter": "python",
   "pygments_lexer": "ipython3",
   "version": "3.8.9"
  },
  "orig_nbformat": 4
 },
 "nbformat": 4,
 "nbformat_minor": 2
}
